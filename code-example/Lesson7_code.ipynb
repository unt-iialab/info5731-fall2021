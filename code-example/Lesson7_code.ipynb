{
 "cells": [
  {
   "cell_type": "markdown",
   "metadata": {
    "colab_type": "text",
    "id": "view-in-github"
   },
   "source": [
    "<a href=\"https://colab.research.google.com/github/unt-iialab/INFO5731_Spring2020/blob/master/Interesting_Code/Lesson7_code.ipynb\" target=\"_parent\"><img src=\"https://colab.research.google.com/assets/colab-badge.svg\" alt=\"Open In Colab\"/></a>"
   ]
  },
  {
   "cell_type": "markdown",
   "metadata": {
    "colab_type": "text",
    "id": "zWkomJBj6lSB"
   },
   "source": [
    "# **Python Information Extraction with different approaches** "
   ]
  },
  {
   "cell_type": "markdown",
   "metadata": {
    "colab_type": "text",
    "id": "6qsHJpl-62Fd"
   },
   "source": [
    "## **1. Rule-Based Matching**\n",
    "\n",
    "Patterns/rules are shown blew. We will use spaCy’s rule-based matcher to extract hypernym-hyponym pairs.\n",
    "\n",
    "Tool: [SpaCy](https://spacy.io/usage/rule-based-matching)"
   ]
  },
  {
   "cell_type": "code",
   "execution_count": 0,
   "metadata": {
    "colab": {
     "base_uri": "https://localhost:8080/",
     "height": 186
    },
    "colab_type": "code",
    "id": "jr7NlVML6ZrD",
    "outputId": "fb38cb8d-94e3-45fd-f4e2-059c02cd7f75"
   },
   "outputs": [
    {
     "data": {
      "image/png": "[encoded data removed]",
      "text/plain": [
       "<IPython.core.display.Image object>"
      ]
     },
     "execution_count": 5,
     "metadata": {
      "tags": []
     },
     "output_type": "execute_result"
    }
   ],
   "source": [
    "from IPython.display import Image\n",
    "Image('https://raw.githubusercontent.com/unt-iialab/INFO5731_Spring2020/master/Interesting_Code/rule-based.png')"
   ]
  },
  {
   "cell_type": "code",
   "execution_count": 0,
   "metadata": {
    "colab": {},
    "colab_type": "code",
    "id": "I3dBoqnA6k15"
   },
   "outputs": [],
   "source": [
    "import re \n",
    "import string \n",
    "import nltk \n",
    "import spacy \n",
    "import pandas as pd \n",
    "import numpy as np \n",
    "import math \n",
    "from tqdm import tqdm \n",
    "\n",
    "from spacy.matcher import Matcher \n",
    "from spacy.tokens import Span \n",
    "from spacy import displacy \n",
    "\n",
    "pd.set_option('display.max_colwidth', 200)\n",
    "# load spaCy model\n",
    "nlp = spacy.load(\"en_core_web_sm\")"
   ]
  },
  {
   "cell_type": "markdown",
   "metadata": {
    "colab_type": "text",
    "id": "4CLtqdx790wS"
   },
   "source": [
    "### **1.1 Pattern: X such as Y**"
   ]
  },
  {
   "cell_type": "code",
   "execution_count": 0,
   "metadata": {
    "colab": {
     "base_uri": "https://localhost:8080/",
     "height": 289
    },
    "colab_type": "code",
    "id": "_vijXsDd-DJp",
    "outputId": "3ac4aac5-61c5-4e0a-b5d9-78c29474ce98"
   },
   "outputs": [
    {
     "name": "stdout",
     "output_type": "stream",
     "text": [
      "GDP --> nsubj --> NOUN\n",
      "in --> prep --> ADP\n",
      "developing --> amod --> VERB\n",
      "countries --> pobj --> NOUN\n",
      "such --> amod --> ADJ\n",
      "as --> prep --> ADP\n",
      "Vietnam --> pobj --> PROPN\n",
      "will --> aux --> VERB\n",
      "continue --> ROOT --> VERB\n",
      "growing --> xcomp --> VERB\n",
      "at --> prep --> ADP\n",
      "a --> det --> DET\n",
      "high --> amod --> ADJ\n",
      "rate --> pobj --> NOUN\n",
      ". --> punct --> PUNCT\n",
      "countries such as Vietnam\n"
     ]
    }
   ],
   "source": [
    "# sample text \n",
    "text = \"GDP in developing countries such as Vietnam will continue growing at a high rate.\" \n",
    "\n",
    "# create a spaCy object \n",
    "doc = nlp(text)\n",
    "# print token, dependency, POS tag \n",
    "for tok in doc: \n",
    "  print(tok.text, \"-->\",tok.dep_,\"-->\", tok.pos_)\n",
    "  #define the pattern \n",
    "pattern = [{'POS':'NOUN'}, \n",
    "           {'LOWER': 'such'}, \n",
    "           {'LOWER': 'as'}, \n",
    "           {'POS': 'PROPN'} #proper noun\n",
    "           ]\n",
    "\n",
    "# A token whose lowercase form matches such, e.g. “Such” or “SUCH”.\n",
    "# A token whose is_punct flag is set to True, i.e. any punctuation.\n",
    "\n",
    "\n",
    "# Matcher class object \n",
    "matcher = Matcher(nlp.vocab) \n",
    "matcher.add(\"matching_1\", None, pattern) \n",
    "matches = matcher(doc) \n",
    "span = doc[matches[0][1]:matches[0][2]] \n",
    "print(span.text)"
   ]
  },
  {
   "cell_type": "code",
   "execution_count": 0,
   "metadata": {
    "colab": {
     "base_uri": "https://localhost:8080/",
     "height": 34
    },
    "colab_type": "code",
    "id": "-PdYCtSRNKLy",
    "outputId": "2d3fe0ae-83c6-44f3-8783-9aea213a6f00"
   },
   "outputs": [
    {
     "name": "stdout",
     "output_type": "stream",
     "text": [
      "developing countries such as Vietnam\n"
     ]
    }
   ],
   "source": [
    "# Matcher class object\n",
    "matcher = Matcher(nlp.vocab)\n",
    "\n",
    "#define the pattern\n",
    "pattern = [{'POS':'VERB', 'OP':\"?\"}, # adjectival modifier\n",
    "           {'POS':'NOUN'},\n",
    "           {'LOWER': 'such'},\n",
    "           {'LOWER': 'as'},\n",
    "           {'POS': 'PROPN'}]\n",
    "\n",
    "matcher.add(\"matching_1\", None, pattern)\n",
    "matches = matcher(doc)\n",
    "\n",
    "span = doc[matches[0][1]:matches[0][2]]\n",
    "print(span.text)"
   ]
  },
  {
   "cell_type": "markdown",
   "metadata": {
    "colab_type": "text",
    "id": "JJolt5egQk-g"
   },
   "source": [
    "The matcher also lets you use quantifiers, specified as the 'OP' key. Quantifiers let you define sequences of tokens to be matched, e.g. one or more punctuation marks, or specify optional tokens. Note that there are no nested or scoped quantifiers – instead, you can build those behaviors with on_match callbacks.\n",
    "\n",
    "|   OP\t\t|   DESCRIPTION\t|\n",
    "|---\t|---\t|\n",
    "|   !\t|   Negate the pattern, by requiring it to match exactly 0 times.\t|\n",
    "|   ?\t\t|   Make the pattern optional, by allowing it to match 0 or 1 times.\t|\n",
    "|   +\t|   Require the pattern to match 1 or more times.\t|\n",
    "|   *\t|   Allow the pattern to match zero or more times.\t|"
   ]
  },
  {
   "cell_type": "markdown",
   "metadata": {
    "colab_type": "text",
    "id": "cGuWMBuDM3ep"
   },
   "source": [
    "### **1.2 Pattern: X and/or Y**"
   ]
  },
  {
   "cell_type": "code",
   "execution_count": 0,
   "metadata": {
    "colab": {
     "base_uri": "https://localhost:8080/",
     "height": 255
    },
    "colab_type": "code",
    "id": "xw7alkcJQSIx",
    "outputId": "556e5149-337d-4c77-d64c-fdfec48469e0"
   },
   "outputs": [
    {
     "name": "stdout",
     "output_type": "stream",
     "text": [
      "Here --> advmod --> ADV\n",
      "is --> ROOT --> VERB\n",
      "how --> advmod --> ADV\n",
      "you --> nsubj --> PRON\n",
      "can --> aux --> VERB\n",
      "keep --> ccomp --> VERB\n",
      "your --> poss --> DET\n",
      "car --> dobj --> NOUN\n",
      "and --> cc --> CCONJ\n",
      "other --> amod --> ADJ\n",
      "vehicles --> conj --> NOUN\n",
      "clean --> oprd --> ADJ\n",
      ". --> punct --> PUNCT\n",
      "car and other vehicles\n"
     ]
    }
   ],
   "source": [
    "doc = nlp(\"Here is how you can keep your car and other vehicles clean.\") \n",
    "\n",
    "# print dependency tags and POS tags\n",
    "for tok in doc: \n",
    "  print(tok.text, \"-->\",tok.dep_, \"-->\",tok.pos_)\n",
    "\n",
    "# Matcher class object \n",
    "matcher = Matcher(nlp.vocab) \n",
    "\n",
    "#define the pattern \n",
    "pattern = [{'DEP':'amod', 'OP':\"?\"}, \n",
    "           {'POS':'NOUN'}, \n",
    "           {'LOWER': 'and', 'OP':\"?\"}, \n",
    "           {'LOWER': 'or', 'OP':\"?\"}, \n",
    "           {'LOWER': 'other'}, \n",
    "           {'POS': 'NOUN'}] \n",
    "           \n",
    "matcher.add(\"matching_1\", None, pattern) \n",
    "\n",
    "matches = matcher(doc) \n",
    "span = doc[matches[0][1]:matches[0][2]] \n",
    "print(span.text)"
   ]
  },
  {
   "cell_type": "code",
   "execution_count": 0,
   "metadata": {
    "colab": {
     "base_uri": "https://localhost:8080/",
     "height": 255
    },
    "colab_type": "code",
    "id": "JRJlmTTYTRVQ",
    "outputId": "604becd8-1412-494f-9fcb-9214f22b97c5"
   },
   "outputs": [
    {
     "name": "stdout",
     "output_type": "stream",
     "text": [
      "Here --> advmod --> ADV\n",
      "is --> ROOT --> VERB\n",
      "how --> advmod --> ADV\n",
      "you --> nsubj --> PRON\n",
      "can --> aux --> VERB\n",
      "keep --> ccomp --> VERB\n",
      "your --> poss --> DET\n",
      "car --> dobj --> NOUN\n",
      "or --> cc --> CCONJ\n",
      "other --> amod --> ADJ\n",
      "vehicles --> conj --> NOUN\n",
      "clean --> oprd --> ADJ\n",
      ". --> punct --> PUNCT\n",
      "car or other vehicles\n"
     ]
    }
   ],
   "source": [
    "doc = nlp(\"Here is how you can keep your car or other vehicles clean.\") \n",
    "\n",
    "# print dependency tags and POS tags\n",
    "for tok in doc: \n",
    "  print(tok.text, \"-->\",tok.dep_, \"-->\",tok.pos_)\n",
    "\n",
    "# Matcher class object \n",
    "matcher = Matcher(nlp.vocab) \n",
    "\n",
    "#define the pattern \n",
    "pattern = [{'DEP':'amod', 'OP':\"?\"}, \n",
    "           {'POS':'NOUN'}, \n",
    "           {'LOWER': 'and', 'OP':\"?\"}, \n",
    "           {'LOWER': 'or', 'OP':\"?\"}, \n",
    "           {'LOWER': 'other'}, \n",
    "           {'POS': 'NOUN'}] \n",
    "           \n",
    "matcher.add(\"matching_1\", None, pattern) \n",
    "\n",
    "matches = matcher(doc) \n",
    "span = doc[matches[0][1]:matches[0][2]] \n",
    "print(span.text)"
   ]
  },
  {
   "cell_type": "markdown",
   "metadata": {
    "colab_type": "text",
    "id": "AIpyiZfuTXz9"
   },
   "source": [
    "### **1.3 Pattern: X, including Y**"
   ]
  },
  {
   "cell_type": "code",
   "execution_count": 0,
   "metadata": {
    "colab": {
     "base_uri": "https://localhost:8080/",
     "height": 238
    },
    "colab_type": "code",
    "id": "FYhWjwDxTrDe",
    "outputId": "4a4874e6-14eb-4627-9ec7-e71262d3fdca"
   },
   "outputs": [
    {
     "name": "stdout",
     "output_type": "stream",
     "text": [
      "Eight --> nummod --> NUM\n",
      "people --> nsubjpass --> NOUN\n",
      ", --> punct --> PUNCT\n",
      "including --> prep --> VERB\n",
      "two --> nummod --> NUM\n",
      "children --> pobj --> NOUN\n",
      ", --> punct --> PUNCT\n",
      "were --> auxpass --> VERB\n",
      "injured --> ROOT --> VERB\n",
      "in --> prep --> ADP\n",
      "the --> det --> DET\n",
      "explosion --> pobj --> NOUN\n",
      "Eight people, including two children\n"
     ]
    }
   ],
   "source": [
    "doc = nlp(\"Eight people, including two children, were injured in the explosion\") \n",
    "\n",
    "for tok in doc: \n",
    "  print(tok.text, \"-->\",tok.dep_, \"-->\",tok.pos_)\n",
    "\n",
    "# Matcher class object \n",
    "matcher = Matcher(nlp.vocab) \n",
    "\n",
    "#define the pattern \n",
    "pattern = [{'DEP':'nummod','OP':\"?\"}, # numeric modifier \n",
    "           {'DEP':'amod','OP':\"?\"}, # adjectival modifier \n",
    "           {'POS':'NOUN'}, \n",
    "           {'IS_PUNCT': True}, \n",
    "           {'LOWER': 'including'}, \n",
    "           {'DEP':'nummod','OP':\"?\"}, \n",
    "           {'DEP':'amod','OP':\"?\"}, \n",
    "           {'POS':'NOUN'}] \n",
    "                               \n",
    "matcher.add(\"matching_1\", None, pattern) \n",
    "\n",
    "matches = matcher(doc) \n",
    "span = doc[matches[0][1]:matches[0][2]] \n",
    "print(span.text)"
   ]
  },
  {
   "cell_type": "markdown",
   "metadata": {
    "colab_type": "text",
    "id": "f_u_4evpUKdX"
   },
   "source": [
    "### **1.4 Pattern: X, especially Y**"
   ]
  },
  {
   "cell_type": "code",
   "execution_count": 0,
   "metadata": {
    "colab": {
     "base_uri": "https://localhost:8080/",
     "height": 221
    },
    "colab_type": "code",
    "id": "cQ7NEOoFUPsW",
    "outputId": "aa2ff508-4c10-4fcc-b410-2842ba3c8faf"
   },
   "outputs": [
    {
     "name": "stdout",
     "output_type": "stream",
     "text": [
      "A det DET\n",
      "healthy amod ADJ\n",
      "eating compound NOUN\n",
      "pattern nsubj NOUN\n",
      "includes ROOT VERB\n",
      "fruits dobj NOUN\n",
      ", punct PUNCT\n",
      "especially advmod ADV\n",
      "whole amod ADJ\n",
      "fruits appos NOUN\n",
      ". punct PUNCT\n",
      "fruits, especially whole fruits\n"
     ]
    }
   ],
   "source": [
    "doc = nlp(\"A healthy eating pattern includes fruits, especially whole fruits.\") \n",
    "\n",
    "for tok in doc: \n",
    "  print(tok.text, tok.dep_, tok.pos_)\n",
    "\n",
    "# Matcher class object \n",
    "matcher = Matcher(nlp.vocab)\n",
    "\n",
    "#define the pattern \n",
    "pattern = [{'DEP':'nummod','OP':\"?\"}, \n",
    "           {'DEP':'amod','OP':\"?\"}, \n",
    "           {'POS':'NOUN'}, \n",
    "           {'IS_PUNCT':True}, \n",
    "           {'LOWER': 'especially'}, \n",
    "           {'DEP':'nummod','OP':\"?\"}, \n",
    "           {'DEP':'amod','OP':\"?\"}, \n",
    "           {'POS':'NOUN'}] \n",
    "           \n",
    "matcher.add(\"matching_1\", None, pattern) \n",
    "\n",
    "matches = matcher(doc) \n",
    "span = doc[matches[0][1]:matches[0][2]] \n",
    "print(span.text)"
   ]
  },
  {
   "cell_type": "markdown",
   "metadata": {
    "colab_type": "text",
    "id": "ncp5-1o-V5oi"
   },
   "source": [
    "### **1.5 Subtree Matching for Relation Extraction**\n",
    "We have to be extremely creative to come up with new rules to capture different patterns. It is difficult to build patterns that generalize well across different sentences."
   ]
  },
  {
   "cell_type": "markdown",
   "metadata": {
    "colab_type": "text",
    "id": "_bVOIsNOWLC6"
   },
   "source": [
    "To enhance the rule-based methods for relation/information extraction, we should try to understand the dependency structure of the sentences at hand."
   ]
  },
  {
   "cell_type": "code",
   "execution_count": 0,
   "metadata": {
    "colab": {
     "base_uri": "https://localhost:8080/",
     "height": 540
    },
    "colab_type": "code",
    "id": "fCkC68ktWXmY",
    "outputId": "a4f14033-fcfa-4dc0-bdd0-f6496a8ae5b9"
   },
   "outputs": [
    {
     "data": {
      "text/html": [
       "<svg xmlns=\"http://www.w3.org/2000/svg\" xmlns:xlink=\"http://www.w3.org/1999/xlink\" xml:lang=\"en\" id=\"84640c51c0b744cb828b79faa87114cf-0\" class=\"displacy\" width=\"1100\" height=\"399.5\" direction=\"ltr\" style=\"max-width: none; height: 399.5px; color: #000000; background: #ffffff; font-family: Arial; direction: ltr\">\n",
       "<text class=\"displacy-token\" fill=\"currentColor\" text-anchor=\"middle\" y=\"309.5\">\n",
       "    <tspan class=\"displacy-word\" fill=\"currentColor\" x=\"50\">Tableau</tspan>\n",
       "    <tspan class=\"displacy-tag\" dy=\"2em\" fill=\"currentColor\" x=\"50\">PROPN</tspan>\n",
       "</text>\n",
       "\n",
       "<text class=\"displacy-token\" fill=\"currentColor\" text-anchor=\"middle\" y=\"309.5\">\n",
       "    <tspan class=\"displacy-word\" fill=\"currentColor\" x=\"225\">was</tspan>\n",
       "    <tspan class=\"displacy-tag\" dy=\"2em\" fill=\"currentColor\" x=\"225\">VERB</tspan>\n",
       "</text>\n",
       "\n",
       "<text class=\"displacy-token\" fill=\"currentColor\" text-anchor=\"middle\" y=\"309.5\">\n",
       "    <tspan class=\"displacy-word\" fill=\"currentColor\" x=\"400\">recently</tspan>\n",
       "    <tspan class=\"displacy-tag\" dy=\"2em\" fill=\"currentColor\" x=\"400\">ADV</tspan>\n",
       "</text>\n",
       "\n",
       "<text class=\"displacy-token\" fill=\"currentColor\" text-anchor=\"middle\" y=\"309.5\">\n",
       "    <tspan class=\"displacy-word\" fill=\"currentColor\" x=\"575\">acquired</tspan>\n",
       "    <tspan class=\"displacy-tag\" dy=\"2em\" fill=\"currentColor\" x=\"575\">VERB</tspan>\n",
       "</text>\n",
       "\n",
       "<text class=\"displacy-token\" fill=\"currentColor\" text-anchor=\"middle\" y=\"309.5\">\n",
       "    <tspan class=\"displacy-word\" fill=\"currentColor\" x=\"750\">by</tspan>\n",
       "    <tspan class=\"displacy-tag\" dy=\"2em\" fill=\"currentColor\" x=\"750\">ADP</tspan>\n",
       "</text>\n",
       "\n",
       "<text class=\"displacy-token\" fill=\"currentColor\" text-anchor=\"middle\" y=\"309.5\">\n",
       "    <tspan class=\"displacy-word\" fill=\"currentColor\" x=\"925\">Salesforce.</tspan>\n",
       "    <tspan class=\"displacy-tag\" dy=\"2em\" fill=\"currentColor\" x=\"925\">PROPN</tspan>\n",
       "</text>\n",
       "\n",
       "<g class=\"displacy-arrow\">\n",
       "    <path class=\"displacy-arc\" id=\"arrow-84640c51c0b744cb828b79faa87114cf-0-0\" stroke-width=\"2px\" d=\"M70,264.5 C70,2.0 575.0,2.0 575.0,264.5\" fill=\"none\" stroke=\"currentColor\"/>\n",
       "    <text dy=\"1.25em\" style=\"font-size: 0.8em; letter-spacing: 1px\">\n",
       "        <textPath xlink:href=\"#arrow-84640c51c0b744cb828b79faa87114cf-0-0\" class=\"displacy-label\" startOffset=\"50%\" side=\"left\" fill=\"currentColor\" text-anchor=\"middle\">nsubjpass</textPath>\n",
       "    </text>\n",
       "    <path class=\"displacy-arrowhead\" d=\"M70,266.5 L62,254.5 78,254.5\" fill=\"currentColor\"/>\n",
       "</g>\n",
       "\n",
       "<g class=\"displacy-arrow\">\n",
       "    <path class=\"displacy-arc\" id=\"arrow-84640c51c0b744cb828b79faa87114cf-0-1\" stroke-width=\"2px\" d=\"M245,264.5 C245,89.5 570.0,89.5 570.0,264.5\" fill=\"none\" stroke=\"currentColor\"/>\n",
       "    <text dy=\"1.25em\" style=\"font-size: 0.8em; letter-spacing: 1px\">\n",
       "        <textPath xlink:href=\"#arrow-84640c51c0b744cb828b79faa87114cf-0-1\" class=\"displacy-label\" startOffset=\"50%\" side=\"left\" fill=\"currentColor\" text-anchor=\"middle\">auxpass</textPath>\n",
       "    </text>\n",
       "    <path class=\"displacy-arrowhead\" d=\"M245,266.5 L237,254.5 253,254.5\" fill=\"currentColor\"/>\n",
       "</g>\n",
       "\n",
       "<g class=\"displacy-arrow\">\n",
       "    <path class=\"displacy-arc\" id=\"arrow-84640c51c0b744cb828b79faa87114cf-0-2\" stroke-width=\"2px\" d=\"M420,264.5 C420,177.0 565.0,177.0 565.0,264.5\" fill=\"none\" stroke=\"currentColor\"/>\n",
       "    <text dy=\"1.25em\" style=\"font-size: 0.8em; letter-spacing: 1px\">\n",
       "        <textPath xlink:href=\"#arrow-84640c51c0b744cb828b79faa87114cf-0-2\" class=\"displacy-label\" startOffset=\"50%\" side=\"left\" fill=\"currentColor\" text-anchor=\"middle\">advmod</textPath>\n",
       "    </text>\n",
       "    <path class=\"displacy-arrowhead\" d=\"M420,266.5 L412,254.5 428,254.5\" fill=\"currentColor\"/>\n",
       "</g>\n",
       "\n",
       "<g class=\"displacy-arrow\">\n",
       "    <path class=\"displacy-arc\" id=\"arrow-84640c51c0b744cb828b79faa87114cf-0-3\" stroke-width=\"2px\" d=\"M595,264.5 C595,177.0 740.0,177.0 740.0,264.5\" fill=\"none\" stroke=\"currentColor\"/>\n",
       "    <text dy=\"1.25em\" style=\"font-size: 0.8em; letter-spacing: 1px\">\n",
       "        <textPath xlink:href=\"#arrow-84640c51c0b744cb828b79faa87114cf-0-3\" class=\"displacy-label\" startOffset=\"50%\" side=\"left\" fill=\"currentColor\" text-anchor=\"middle\">agent</textPath>\n",
       "    </text>\n",
       "    <path class=\"displacy-arrowhead\" d=\"M740.0,266.5 L748.0,254.5 732.0,254.5\" fill=\"currentColor\"/>\n",
       "</g>\n",
       "\n",
       "<g class=\"displacy-arrow\">\n",
       "    <path class=\"displacy-arc\" id=\"arrow-84640c51c0b744cb828b79faa87114cf-0-4\" stroke-width=\"2px\" d=\"M770,264.5 C770,177.0 915.0,177.0 915.0,264.5\" fill=\"none\" stroke=\"currentColor\"/>\n",
       "    <text dy=\"1.25em\" style=\"font-size: 0.8em; letter-spacing: 1px\">\n",
       "        <textPath xlink:href=\"#arrow-84640c51c0b744cb828b79faa87114cf-0-4\" class=\"displacy-label\" startOffset=\"50%\" side=\"left\" fill=\"currentColor\" text-anchor=\"middle\">pobj</textPath>\n",
       "    </text>\n",
       "    <path class=\"displacy-arrowhead\" d=\"M915.0,266.5 L923.0,254.5 907.0,254.5\" fill=\"currentColor\"/>\n",
       "</g>\n",
       "</svg>"
      ],
      "text/plain": [
       "<IPython.core.display.HTML object>"
      ]
     },
     "metadata": {
      "tags": []
     },
     "output_type": "display_data"
    },
    {
     "name": "stdout",
     "output_type": "stream",
     "text": [
      "Tableau --> nsubjpass --> PROPN\n",
      "was --> auxpass --> VERB\n",
      "recently --> advmod --> ADV\n",
      "acquired --> ROOT --> VERB\n",
      "by --> agent --> ADP\n",
      "Salesforce --> pobj --> PROPN\n",
      ". --> punct --> PUNCT\n"
     ]
    }
   ],
   "source": [
    "text = \"Tableau was recently acquired by Salesforce.\" \n",
    "\n",
    "# Plot the dependency graph \n",
    "doc = nlp(text) \n",
    "displacy.render(doc, style='dep',jupyter=True)\n",
    "for tok in doc: \n",
    "  print(tok.text,\"-->\",tok.dep_,\"-->\",tok.pos_)"
   ]
  },
  {
   "cell_type": "code",
   "execution_count": 0,
   "metadata": {
    "colab": {
     "base_uri": "https://localhost:8080/",
     "height": 34
    },
    "colab_type": "code",
    "id": "g1tAwCGDVRCB",
    "outputId": "4f98c71c-7e87-4eae-ac96-ee5578d1b810"
   },
   "outputs": [
    {
     "data": {
      "text/plain": [
       "('Salesforce', 'Tableau')"
      ]
     },
     "execution_count": 29,
     "metadata": {
      "tags": []
     },
     "output_type": "execute_result"
    }
   ],
   "source": [
    "def subtree_matcher(doc):\n",
    "  subjpass = 0\n",
    "\n",
    "  for i,tok in enumerate(doc):\n",
    "    # find dependency tag that contains the text \"subjpass\"    \n",
    "    if tok.dep_.find(\"subjpass\") == True:\n",
    "      subjpass = 1\n",
    "\n",
    "  x = ''\n",
    "  y = ''\n",
    "\n",
    "  # if subjpass == 1 then sentence is passive\n",
    "  if subjpass == 1:\n",
    "    for i,tok in enumerate(doc):\n",
    "      if tok.dep_.find(\"subjpass\") == True:\n",
    "        y = tok.text\n",
    "\n",
    "      if tok.dep_.endswith(\"obj\") == True:\n",
    "        x = tok.text\n",
    "  \n",
    "  # if subjpass == 0 then sentence is not passive\n",
    "  else:\n",
    "    for i,tok in enumerate(doc):\n",
    "      if tok.dep_.endswith(\"subj\") == True:\n",
    "        x = tok.text\n",
    "\n",
    "      if tok.dep_.endswith(\"obj\") == True:\n",
    "        y = tok.text\n",
    "\n",
    "  return x,y\n",
    "\n",
    "\n",
    "subtree_matcher(nlp(\"Tableau was recently acquired by Salesforce.\"))"
   ]
  },
  {
   "cell_type": "code",
   "execution_count": 0,
   "metadata": {
    "colab": {
     "base_uri": "https://localhost:8080/",
     "height": 34
    },
    "colab_type": "code",
    "id": "XzOkGVrSVxtU",
    "outputId": "7ac2035c-f37b-4d7c-847f-33aeffab2f67"
   },
   "outputs": [
    {
     "data": {
      "text/plain": [
       "('Uber', 'Careem')"
      ]
     },
     "execution_count": 28,
     "metadata": {
      "tags": []
     },
     "output_type": "execute_result"
    }
   ],
   "source": [
    "subtree_matcher(nlp(\"Careem, a ride hailing major in middle east, was acquired by Uber.\"))"
   ]
  },
  {
   "cell_type": "markdown",
   "metadata": {
    "colab_type": "text",
    "id": "jgj2xzwyWlWK"
   },
   "source": [
    "# 2. **Machine Learning based approaches**\n",
    "\n",
    "Wonderful Open Source Information Extraction Projects:\n",
    "\n",
    "https://awesomeopensource.com/projects/information-extraction"
   ]
  },
  {
   "cell_type": "markdown",
   "metadata": {
    "colab_type": "text",
    "id": "wkFCIPFddNny"
   },
   "source": [
    "## **2.1 Open Information Extraction tools**\n",
    "A curated list of Open Information Extraction (OIE) resources: research papers, code, data, applications, etc. The list is not limited to Open Information Extraction systems exclusively. It also includes work highly related to the field of OIE, such as taxonomizing open relations and using OIE in downstream applications.\n",
    "\n",
    "https://github.com/gkiril/oie-resources"
   ]
  },
  {
   "cell_type": "markdown",
   "metadata": {
    "colab_type": "text",
    "id": "-DJlyL1sZGqQ"
   },
   "source": [
    "### **(1) Snips NLU**\n",
    "https://github.com/snipsco/snips-nlu\n",
    "https://snips-nlu.readthedocs.io/en/latest/installation.html"
   ]
  },
  {
   "cell_type": "code",
   "execution_count": 0,
   "metadata": {
    "colab": {
     "base_uri": "https://localhost:8080/",
     "height": 697
    },
    "colab_type": "code",
    "id": "KIROZw3pZB7g",
    "outputId": "00d5a2ec-8738-4063-d8b4-c30534762214"
   },
   "outputs": [
    {
     "name": "stdout",
     "output_type": "stream",
     "text": [
      "Collecting snips-nlu\n",
      "\u001b[?25l  Downloading https://files.pythonhosted.org/packages/a8/f1/22a53640aac60fa4f324b955df404ffbefc07bd7fabdbd6182c217f83fc8/snips_nlu-0.20.2-py2.py3-none-any.whl (135kB)\n",
      "\r",
      "\u001b[K     |██▍                             | 10kB 16.4MB/s eta 0:00:01\r",
      "\u001b[K     |████▉                           | 20kB 1.8MB/s eta 0:00:01\r",
      "\u001b[K     |███████▎                        | 30kB 2.3MB/s eta 0:00:01\r",
      "\u001b[K     |█████████▊                      | 40kB 1.6MB/s eta 0:00:01\r",
      "\u001b[K     |████████████                    | 51kB 1.9MB/s eta 0:00:01\r",
      "\u001b[K     |██████████████▌                 | 61kB 2.3MB/s eta 0:00:01\r",
      "\u001b[K     |█████████████████               | 71kB 2.4MB/s eta 0:00:01\r",
      "\u001b[K     |███████████████████▍            | 81kB 2.6MB/s eta 0:00:01\r",
      "\u001b[K     |█████████████████████▉          | 92kB 3.0MB/s eta 0:00:01\r",
      "\u001b[K     |████████████████████████▏       | 102kB 2.7MB/s eta 0:00:01\r",
      "\u001b[K     |██████████████████████████▋     | 112kB 2.7MB/s eta 0:00:01\r",
      "\u001b[K     |█████████████████████████████   | 122kB 2.7MB/s eta 0:00:01\r",
      "\u001b[K     |███████████████████████████████▌| 133kB 2.7MB/s eta 0:00:01\r",
      "\u001b[K     |████████████████████████████████| 143kB 2.7MB/s \n",
      "\u001b[?25hCollecting deprecation<3.0,>=2.0\n",
      "  Downloading https://files.pythonhosted.org/packages/b9/2a/d5084a8781398cea745c01237b95d9762c382697c63760a95cc6a814ad3a/deprecation-2.0.7-py2.py3-none-any.whl\n",
      "Requirement already satisfied: numpy<2.0,>=1.15 in /usr/local/lib/python3.6/dist-packages (from snips-nlu) (1.17.5)\n",
      "Requirement already satisfied: future<0.18,>=0.16 in /usr/local/lib/python3.6/dist-packages (from snips-nlu) (0.16.0)\n",
      "Collecting pyaml<20.0,>=17.0\n",
      "  Downloading https://files.pythonhosted.org/packages/35/1e/eda9fe07f752ced7afcef590e7d74390f0d9c9c0b7ff98317afbaa0697e3/pyaml-19.12.0-py2.py3-none-any.whl\n",
      "Collecting sklearn-crfsuite<0.4,>=0.3.6\n",
      "  Downloading https://files.pythonhosted.org/packages/25/74/5b7befa513482e6dee1f3dd68171a6c9dfc14c0eaa00f885ffeba54fe9b0/sklearn_crfsuite-0.3.6-py2.py3-none-any.whl\n",
      "Collecting snips-nlu-utils<0.10,>=0.9\n",
      "\u001b[?25l  Downloading https://files.pythonhosted.org/packages/f1/d7/0697bc14d634ed54633de61042eb292291e22980525a9bd70aa69ddae89d/snips_nlu_utils-0.9.1-cp36-cp36m-manylinux1_x86_64.whl (1.2MB)\n",
      "\u001b[K     |████████████████████████████████| 1.2MB 9.1MB/s \n",
      "\u001b[?25hRequirement already satisfied: requests<3.0,>=2.0 in /usr/local/lib/python3.6/dist-packages (from snips-nlu) (2.21.0)\n",
      "Requirement already satisfied: scipy<2.0,>=1.0 in /usr/local/lib/python3.6/dist-packages (from snips-nlu) (1.4.1)\n",
      "Collecting snips-nlu-parsers<0.5,>=0.3.1\n",
      "\u001b[?25l  Downloading https://files.pythonhosted.org/packages/42/58/211522b708acf3c9f11c8b2be9a36fd94a713c0385b6430841fcea055b9f/snips_nlu_parsers-0.4.3-cp36-cp36m-manylinux1_x86_64.whl (6.8MB)\n",
      "\u001b[K     |████████████████████████████████| 6.8MB 20.7MB/s \n",
      "\u001b[?25hCollecting num2words<0.6,>=0.5.6\n",
      "\u001b[?25l  Downloading https://files.pythonhosted.org/packages/eb/a2/ea800689730732e27711c41beed4b2a129b34974435bdc450377ec407738/num2words-0.5.10-py3-none-any.whl (101kB)\n",
      "\u001b[K     |████████████████████████████████| 102kB 10.7MB/s \n",
      "\u001b[?25hRequirement already satisfied: scikit-learn<0.23,>=0.21.1; python_version >= \"3.5\" in /usr/local/lib/python3.6/dist-packages (from snips-nlu) (0.22.1)\n",
      "Requirement already satisfied: packaging in /usr/local/lib/python3.6/dist-packages (from deprecation<3.0,>=2.0->snips-nlu) (20.1)\n",
      "Requirement already satisfied: PyYAML in /usr/local/lib/python3.6/dist-packages (from pyaml<20.0,>=17.0->snips-nlu) (3.13)\n",
      "Collecting python-crfsuite>=0.8.3\n",
      "\u001b[?25l  Downloading https://files.pythonhosted.org/packages/2f/86/cfcd71edca9d25d3d331209a20f6314b6f3f134c29478f90559cee9ce091/python_crfsuite-0.9.6-cp36-cp36m-manylinux1_x86_64.whl (754kB)\n",
      "\u001b[K     |████████████████████████████████| 757kB 42.8MB/s \n",
      "\u001b[?25hRequirement already satisfied: tqdm>=2.0 in /usr/local/lib/python3.6/dist-packages (from sklearn-crfsuite<0.4,>=0.3.6->snips-nlu) (4.28.1)\n",
      "Requirement already satisfied: tabulate in /usr/local/lib/python3.6/dist-packages (from sklearn-crfsuite<0.4,>=0.3.6->snips-nlu) (0.8.6)\n",
      "Requirement already satisfied: six in /usr/local/lib/python3.6/dist-packages (from sklearn-crfsuite<0.4,>=0.3.6->snips-nlu) (1.12.0)\n",
      "Requirement already satisfied: certifi>=2017.4.17 in /usr/local/lib/python3.6/dist-packages (from requests<3.0,>=2.0->snips-nlu) (2019.11.28)\n",
      "Requirement already satisfied: urllib3<1.25,>=1.21.1 in /usr/local/lib/python3.6/dist-packages (from requests<3.0,>=2.0->snips-nlu) (1.24.3)\n",
      "Requirement already satisfied: chardet<3.1.0,>=3.0.2 in /usr/local/lib/python3.6/dist-packages (from requests<3.0,>=2.0->snips-nlu) (3.0.4)\n",
      "Requirement already satisfied: idna<2.9,>=2.5 in /usr/local/lib/python3.6/dist-packages (from requests<3.0,>=2.0->snips-nlu) (2.8)\n",
      "Requirement already satisfied: docopt>=0.6.2 in /usr/local/lib/python3.6/dist-packages (from num2words<0.6,>=0.5.6->snips-nlu) (0.6.2)\n",
      "Requirement already satisfied: joblib>=0.11 in /usr/local/lib/python3.6/dist-packages (from scikit-learn<0.23,>=0.21.1; python_version >= \"3.5\"->snips-nlu) (0.14.1)\n",
      "Requirement already satisfied: pyparsing>=2.0.2 in /usr/local/lib/python3.6/dist-packages (from packaging->deprecation<3.0,>=2.0->snips-nlu) (2.4.6)\n",
      "Installing collected packages: deprecation, pyaml, python-crfsuite, sklearn-crfsuite, snips-nlu-utils, snips-nlu-parsers, num2words, snips-nlu\n",
      "Successfully installed deprecation-2.0.7 num2words-0.5.10 pyaml-19.12.0 python-crfsuite-0.9.6 sklearn-crfsuite-0.3.6 snips-nlu-0.20.2 snips-nlu-parsers-0.4.3 snips-nlu-utils-0.9.1\n"
     ]
    }
   ],
   "source": [
    "!pip install snips-nlu"
   ]
  },
  {
   "cell_type": "code",
   "execution_count": 0,
   "metadata": {
    "colab": {
     "base_uri": "https://localhost:8080/",
     "height": 255
    },
    "colab_type": "code",
    "id": "rJsgWaDbZqS1",
    "outputId": "85ee7963-07d5-4cd5-9e61-df643c470601"
   },
   "outputs": [
    {
     "name": "stdout",
     "output_type": "stream",
     "text": [
      "Collecting snips_nlu_en==0.2.3\n",
      "\u001b[?25l  Downloading https://github.com/snipsco/snips-nlu-language-resources/releases/download/snips_nlu_en-0.2.3/snips_nlu_en-0.2.3.tar.gz (1.3MB)\n",
      "\u001b[K     |████████████████████████████████| 1.3MB 4.0MB/s \n",
      "\u001b[?25hBuilding wheels for collected packages: snips-nlu-en\n",
      "  Building wheel for snips-nlu-en (setup.py) ... \u001b[?25l\u001b[?25hdone\n",
      "  Created wheel for snips-nlu-en: filename=snips_nlu_en-0.2.3-cp36-none-any.whl size=1297477 sha256=e11ccba15c3a53670e517a3f873c6db0db6d5f1fbc967a05da8adc7e3e2e7e68\n",
      "  Stored in directory: /tmp/pip-ephem-wheel-cache-zuwl7kmk/wheels/f3/f7/5a/92a6c8b31b7184c95c9fdd5c124cc17026797c0de04742f8b1\n",
      "Successfully built snips-nlu-en\n",
      "Installing collected packages: snips-nlu-en\n",
      "Successfully installed snips-nlu-en-0.2.3\n",
      "\n",
      "\u001b[92mLinking successful\u001b[0m\n",
      "/usr/local/lib/python3.6/dist-packages/snips_nlu_en/snips_nlu_en-0.2.3 --> /usr/local/lib/python3.6/dist-packages/snips_nlu/data/en\n",
      "\n"
     ]
    }
   ],
   "source": [
    "!snips-nlu download en"
   ]
  },
  {
   "cell_type": "code",
   "execution_count": 0,
   "metadata": {
    "colab": {
     "base_uri": "https://localhost:8080/",
     "height": 34
    },
    "colab_type": "code",
    "id": "yeThzdy8aKm7",
    "outputId": "87ba09c6-3574-4359-fa2f-e83337bdf9dd"
   },
   "outputs": [
    {
     "data": {
      "text/plain": [
       "'turnLightOn'"
      ]
     },
     "execution_count": 44,
     "metadata": {
      "tags": []
     },
     "output_type": "execute_result"
    }
   ],
   "source": [
    "from __future__ import unicode_literals, print_function\n",
    "import io\n",
    "import json\n",
    "from snips_nlu import SnipsNLUEngine\n",
    "from snips_nlu.default_configs import CONFIG_EN\n",
    "with open(\"lights_dataset.json\") as f:\n",
    "  sample_dataset = json.load(f)\n",
    "nlu_engine = SnipsNLUEngine(config=CONFIG_EN)\n",
    "nlu_engine = nlu_engine.fit(sample_dataset)\n",
    "text = \"Please turn the light on in the kitchen\"\n",
    "parsing = nlu_engine.parse(text)\n",
    "parsing[\"intent\"][\"intentName\"]"
   ]
  },
  {
   "cell_type": "code",
   "execution_count": 0,
   "metadata": {
    "colab": {
     "base_uri": "https://localhost:8080/",
     "height": 153
    },
    "colab_type": "code",
    "id": "n7_iQG8bbfiO",
    "outputId": "3207d7af-5c07-4a5d-e06e-1741b6c99646"
   },
   "outputs": [
    {
     "name": "stdout",
     "output_type": "stream",
     "text": [
      "{\n",
      "  \"input\": \"What will be the weather in San Francisco next week?\",\n",
      "  \"intent\": {\n",
      "    \"intentName\": null,\n",
      "    \"probability\": 0.47512188450226484\n",
      "  },\n",
      "  \"slots\": []\n",
      "}\n"
     ]
    }
   ],
   "source": [
    "import json\n",
    "\n",
    "parsing = nlu_engine.parse(\"What will be the weather in San Francisco next week?\")\n",
    "print(json.dumps(parsing, indent=2))"
   ]
  },
  {
   "cell_type": "code",
   "execution_count": 0,
   "metadata": {
    "colab": {
     "base_uri": "https://localhost:8080/",
     "height": 391
    },
    "colab_type": "code",
    "id": "ebSwbqyhbzvr",
    "outputId": "5cc174a0-eeca-4862-a34b-5a1fdf411787"
   },
   "outputs": [
    {
     "name": "stdout",
     "output_type": "stream",
     "text": [
      "{\n",
      "  \"input\": \"Hey, lights on in the lounge !\",\n",
      "  \"intent\": {\n",
      "    \"intentName\": \"turnLightOn\",\n",
      "    \"probability\": 0.6021556035046789\n",
      "  },\n",
      "  \"slots\": [\n",
      "    {\n",
      "      \"range\": {\n",
      "        \"start\": 22,\n",
      "        \"end\": 28\n",
      "      },\n",
      "      \"rawValue\": \"lounge\",\n",
      "      \"value\": {\n",
      "        \"kind\": \"Custom\",\n",
      "        \"value\": \"lounge\"\n",
      "      },\n",
      "      \"entity\": \"room\",\n",
      "      \"slotName\": \"room\"\n",
      "    }\n",
      "  ]\n",
      "}\n"
     ]
    }
   ],
   "source": [
    "parsing = nlu_engine.parse(\"Hey, lights on in the lounge !\")\n",
    "print(json.dumps(parsing, indent=2))"
   ]
  },
  {
   "cell_type": "markdown",
   "metadata": {
    "colab_type": "text",
    "id": "NEI5MaV2cNiw"
   },
   "source": [
    "Supported builtin entities: https://snips-nlu.readthedocs.io/en/latest/builtin_entities.html"
   ]
  },
  {
   "cell_type": "markdown",
   "metadata": {
    "colab_type": "text",
    "id": "q8DPEQ42cWXr"
   },
   "source": [
    "### **(2) ReVerb**\n",
    "\n",
    "http://www.fiber-space.de/reverb2/reverb-doc/index.html#"
   ]
  },
  {
   "cell_type": "markdown",
   "metadata": {
    "colab_type": "text",
    "id": "KkrUMOpseWvy"
   },
   "source": [
    "### **(3) Stanford OpenIE**\n",
    "\n",
    "https://pypi.org/project/stanford-openie/"
   ]
  },
  {
   "cell_type": "markdown",
   "metadata": {
    "colab_type": "text",
    "id": "gp0MAV1idi47"
   },
   "source": [
    "## **2.2 Domain-specific Information Extraction**"
   ]
  },
  {
   "cell_type": "markdown",
   "metadata": {
    "colab_type": "text",
    "id": "izIyEutcdtE0"
   },
   "source": [
    "### **(1) LegalNLP**\n",
    "\n",
    "https://lexpredict-lexnlp.readthedocs.io/en/latest/modules/extract/extract.html#nlp-based-extraction-methods"
   ]
  },
  {
   "cell_type": "markdown",
   "metadata": {
    "colab_type": "text",
    "id": "26F851kKg4KZ"
   },
   "source": [
    "### **(2) medaCy**\n",
    "\n",
    "Medical Text Mining and Information Extraction with spaCy \n",
    "\n",
    "https://github.com/NLPatVCU/medaCy"
   ]
  },
  {
   "cell_type": "markdown",
   "metadata": {
    "colab_type": "text",
    "id": "_9Vf4Da3l05Z"
   },
   "source": [
    "### **(3) scispacy**\n",
    "\n",
    "https://allenai.github.io/scispacy/"
   ]
  },
  {
   "cell_type": "markdown",
   "metadata": {},
   "source": [
    "## 2.3 Keywords Extraction"
   ]
  },
  {
   "cell_type": "markdown",
   "metadata": {},
   "source": [
    "### (1) Yet Another Keyword Extractor (YAKE)\n",
    "\n",
    "YAKE! is a light-weight unsupervised automatic keyword extraction method which rests on text statistical features extracted from single documents to select the most important keywords of a text. \n",
    "\n",
    "Github: https://github.com/LIAAD/yake"
   ]
  },
  {
   "cell_type": "markdown",
   "metadata": {},
   "source": [
    "### (2) rake-nltk\n",
    "\n",
    "RAKE short for Rapid Automatic Keyword Extraction algorithm, is a domain independent keyword extraction algorithm which tries to determine key phrases in a body of text by analyzing the frequency of word appearance and its co-occurance with other words in the text.\n",
    "\n",
    "Github: https://github.com/csurfer/rake-nltk\n",
    "\n",
    "Tutorial: https://www.airpair.com/nlp/keyword-extraction-tutorial"
   ]
  },
  {
   "cell_type": "markdown",
   "metadata": {},
   "source": [
    "### (3) TextRank \n",
    "\n",
    "TextRank uses unsupervised methods for keyword and sentence extraction.\n",
    "\n",
    "https://github.com/JRC1995/TextRank-Keyword-Extraction"
   ]
  },
  {
   "cell_type": "markdown",
   "metadata": {},
   "source": [
    "### (4) pke - python keyphrase extraction\n",
    "\n",
    "pke is an open source python-based keyphrase extraction toolkit. It provides an end-to-end keyphrase extraction pipeline in which each component can be easily modified or extended to develop new models. pke also allows for easy benchmarking of state-of-the-art keyphrase extraction models\n",
    "\n",
    "https://github.com/boudinfl/pke"
   ]
  },
  {
   "cell_type": "markdown",
   "metadata": {},
   "source": [
    "### (5) Keyword-Extraction using BERT\n",
    "\n",
    "Deep Keyphrase Extraction using BERT. using BERT Token Classification Model to extract keywords from a sentence. \n",
    "\n",
    "https://github.com/ibatra/BERT-Keyword-Extractor\n",
    "\n",
    "https://github.com/ibatra/BERT-Keyword-Extractor/blob/master/BERT-Keyword%20Extractor.ipynb"
   ]
  },
  {
   "cell_type": "markdown",
   "metadata": {},
   "source": [
    "## 2.4 Named Entity recognition"
   ]
  },
  {
   "cell_type": "markdown",
   "metadata": {},
   "source": [
    "\n",
    "### (1) Spacy\n",
    "\n",
    "Overview in the general domain: https://pahulpreet86.github.io/name-entity-recognition-pre-trained-models-review/\n",
    "\n",
    "https://spacy.io/usage/linguistic-features#named-entities\n",
    "\n",
    "\n",
    "### (2) Spark NLP\n",
    "\n",
    "GitHub: https://github.com/JohnSnowLabs/spark-nlp\n",
    "\n",
    "Google Colab: https://colab.research.google.com/github/JohnSnowLabs/spark-nlp-workshop/blob/master/tutorials/streamlit_notebooks/NER_EN.ipynb \n",
    "\n",
    "### (3)  bert-base-NER:\n",
    "https://huggingface.co/dslim/bert-base-NER\n",
    "\n",
    "### (4) bio-bert-ner:\n",
    "\n",
    "https://github.com/dmis-lab/biobert\n",
    "\n",
    "https://github.com/ncbi-nlp/bluebert"
   ]
  },
  {
   "cell_type": "markdown",
   "metadata": {},
   "source": [
    "## Recommended: TextRazor (Extract meaning from text)\n",
    "\n",
    "https://www.textrazor.com/"
   ]
  },
  {
   "cell_type": "code",
   "execution_count": null,
   "metadata": {},
   "outputs": [],
   "source": []
  }
 ],
 "metadata": {
  "colab": {
   "authorship_tag": "ABX9TyPgop/3xzImw4JFd97qzVCF",
   "collapsed_sections": [],
   "include_colab_link": true,
   "name": "Lesson7_code.ipynb",
   "provenance": []
  },
  "kernelspec": {
   "display_name": "Python 3",
   "language": "python",
   "name": "python3"
  },
  "language_info": {
   "codemirror_mode": {
    "name": "ipython",
    "version": 3
   },
   "file_extension": ".py",
   "mimetype": "text/x-python",
   "name": "python",
   "nbconvert_exporter": "python",
   "pygments_lexer": "ipython3",
   "version": "3.8.5"
  }
 },
 "nbformat": 4,
 "nbformat_minor": 1
}
